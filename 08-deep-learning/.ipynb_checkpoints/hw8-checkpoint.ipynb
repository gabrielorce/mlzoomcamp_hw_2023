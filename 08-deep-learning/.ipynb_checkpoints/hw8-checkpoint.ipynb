{
 "cells": [
  {
   "cell_type": "code",
   "execution_count": 145,
   "id": "1c0338e4-facd-4b21-b877-6bec09f4bc13",
   "metadata": {
    "execution": {
     "iopub.execute_input": "2023-11-23T04:24:24.577093Z",
     "iopub.status.busy": "2023-11-23T04:24:24.576705Z",
     "iopub.status.idle": "2023-11-23T04:24:24.580279Z",
     "shell.execute_reply": "2023-11-23T04:24:24.579578Z",
     "shell.execute_reply.started": "2023-11-23T04:24:24.577068Z"
    },
    "tags": []
   },
   "outputs": [],
   "source": [
    "# !wget https://github.com/SVizor42/ML_Zoomcamp/releases/download/bee-wasp-data/data.zip"
   ]
  },
  {
   "cell_type": "code",
   "execution_count": 146,
   "id": "76f86813-7f0f-4302-814c-72b375ca9287",
   "metadata": {
    "execution": {
     "iopub.execute_input": "2023-11-23T04:24:24.776016Z",
     "iopub.status.busy": "2023-11-23T04:24:24.775636Z",
     "iopub.status.idle": "2023-11-23T04:24:24.779249Z",
     "shell.execute_reply": "2023-11-23T04:24:24.778509Z",
     "shell.execute_reply.started": "2023-11-23T04:24:24.775990Z"
    },
    "tags": []
   },
   "outputs": [],
   "source": [
    "# !unzip data.zip"
   ]
  },
  {
   "cell_type": "code",
   "execution_count": 147,
   "id": "7732a8b0-66e7-4a02-a8bc-1751a13bc537",
   "metadata": {
    "execution": {
     "iopub.execute_input": "2023-11-23T04:24:25.076512Z",
     "iopub.status.busy": "2023-11-23T04:24:25.075914Z",
     "iopub.status.idle": "2023-11-23T04:24:25.080729Z",
     "shell.execute_reply": "2023-11-23T04:24:25.079971Z",
     "shell.execute_reply.started": "2023-11-23T04:24:25.076481Z"
    },
    "tags": []
   },
   "outputs": [],
   "source": [
    "import numpy as np\n",
    "import matplotlib.pyplot as plt\n",
    "\n",
    "%matplotlib inline"
   ]
  },
  {
   "cell_type": "code",
   "execution_count": 148,
   "id": "d43d2224-5413-4a14-b333-d80d62f2cb53",
   "metadata": {
    "execution": {
     "iopub.execute_input": "2023-11-23T04:24:25.187300Z",
     "iopub.status.busy": "2023-11-23T04:24:25.186781Z",
     "iopub.status.idle": "2023-11-23T04:24:25.192058Z",
     "shell.execute_reply": "2023-11-23T04:24:25.191394Z",
     "shell.execute_reply.started": "2023-11-23T04:24:25.187278Z"
    },
    "tags": []
   },
   "outputs": [
    {
     "data": {
      "text/plain": [
       "'2.9.1'"
      ]
     },
     "execution_count": 148,
     "metadata": {},
     "output_type": "execute_result"
    }
   ],
   "source": [
    "from tensorflow.keras import layers, models, optimizers\n",
    "from tensorflow.keras.preprocessing.image import load_img\n",
    "\n",
    "import tensorflow as tf\n",
    "from tensorflow import keras\n",
    "\n",
    "tf.__version__"
   ]
  },
  {
   "cell_type": "code",
   "execution_count": 149,
   "id": "d0213094-26a8-4bed-85fe-642116a7feaf",
   "metadata": {
    "execution": {
     "iopub.execute_input": "2023-11-23T04:24:25.576240Z",
     "iopub.status.busy": "2023-11-23T04:24:25.575941Z",
     "iopub.status.idle": "2023-11-23T04:24:25.579684Z",
     "shell.execute_reply": "2023-11-23T04:24:25.578955Z",
     "shell.execute_reply.started": "2023-11-23T04:24:25.576218Z"
    },
    "tags": []
   },
   "outputs": [],
   "source": [
    "from tensorflow.keras.preprocessing import image\n",
    "from tensorflow.keras.preprocessing.image import ImageDataGenerator"
   ]
  },
  {
   "cell_type": "code",
   "execution_count": 150,
   "id": "5bfbaa5b-ad5a-4168-8bac-e0e7fe37929a",
   "metadata": {
    "execution": {
     "iopub.execute_input": "2023-11-23T04:24:26.478278Z",
     "iopub.status.busy": "2023-11-23T04:24:26.477894Z",
     "iopub.status.idle": "2023-11-23T04:24:26.511525Z",
     "shell.execute_reply": "2023-11-23T04:24:26.510969Z",
     "shell.execute_reply.started": "2023-11-23T04:24:26.478253Z"
    },
    "tags": []
   },
   "outputs": [],
   "source": [
    "model = models.Sequential()\n",
    "\n",
    "# The shape for input should be (150, 150, 3)\n",
    "input_shape = (150, 150, 3)\n",
    "\n",
    "# create a convolutional layer (Conv2D), Use 32 filters, Kernel size should be (3, 3) (that's the size of the filter), se 'relu' as activation\n",
    "model.add(layers.Conv2D(32, (3, 3), activation=\"relu\", input_shape=input_shape))\n",
    "\n",
    "# Reduce the size of the feature map with max pooling (MaxPooling2D) - Set the pooling size to (2, 2)\n",
    "model.add(layers.MaxPooling2D((2, 2)))\n",
    "\n",
    "# Turn the multi-dimensional result into vectors using a Flatten layer\n",
    "model.add(layers.Flatten())\n",
    "\n",
    "# Next, add a Dense layer with 64 neurons and 'relu' activation\n",
    "model.add(layers.Dense(64, activation=\"relu\"))\n",
    "\n",
    "# Finally, create the Dense layer with 1 neuron - this will be the output - The output layer should have an activation - use the appropriate activation for the binary classification case\n",
    "model.add(layers.Dense(1, activation=\"sigmoid\"))"
   ]
  },
  {
   "cell_type": "markdown",
   "id": "8f030e3a-5004-4bee-ac8c-7ef4263f1689",
   "metadata": {},
   "source": [
    "Q1: Since we have a binary classification problem, what is the best loss function for us?\n",
    "\n",
    "A1: Binary cross entropy. Binary cross entropy (also known as logarithmic loss or log loss) is a model metric that tracks incorrect labeling of the data class by a model, penalizing the model if deviations in probability occur into classifying the labels. Low log loss values equate to high accuracy values. FROM: https://arize.com/blog-course/binary-cross-entropy-log-loss/"
   ]
  },
  {
   "cell_type": "code",
   "execution_count": 151,
   "id": "b8f638a0-5a1a-4858-ae32-1e817f4e5dc2",
   "metadata": {
    "execution": {
     "iopub.execute_input": "2023-11-23T04:24:31.151531Z",
     "iopub.status.busy": "2023-11-23T04:24:31.151138Z",
     "iopub.status.idle": "2023-11-23T04:24:31.161534Z",
     "shell.execute_reply": "2023-11-23T04:24:31.160906Z",
     "shell.execute_reply.started": "2023-11-23T04:24:31.151508Z"
    },
    "tags": []
   },
   "outputs": [],
   "source": [
    "# As optimizer use SGD with the following parameters: SGD(lr=0.002, momentum=0.8)\n",
    "model.compile(\n",
    "    loss=\"binary_crossentropy\",\n",
    "    optimizer=optimizers.SGD(learning_rate=0.002, momentum=0.8),\n",
    "    metrics=[\"acc\"],\n",
    ")"
   ]
  },
  {
   "cell_type": "markdown",
   "id": "f361ebd5-c76a-4ca2-9e86-324226f73aa7",
   "metadata": {},
   "source": [
    "Q2: What's the number of parameters in the convolutional layer of our model? You can use the summary method for that."
   ]
  },
  {
   "cell_type": "code",
   "execution_count": 152,
   "id": "a0f4c71f-eefc-44ce-8c35-3e01f5004b72",
   "metadata": {
    "execution": {
     "iopub.execute_input": "2023-11-23T04:24:33.615505Z",
     "iopub.status.busy": "2023-11-23T04:24:33.615122Z",
     "iopub.status.idle": "2023-11-23T04:24:33.630670Z",
     "shell.execute_reply": "2023-11-23T04:24:33.630068Z",
     "shell.execute_reply.started": "2023-11-23T04:24:33.615480Z"
    },
    "tags": []
   },
   "outputs": [
    {
     "name": "stdout",
     "output_type": "stream",
     "text": [
      "Model: \"sequential_8\"\n",
      "_________________________________________________________________\n",
      " Layer (type)                Output Shape              Param #   \n",
      "=================================================================\n",
      " conv2d_7 (Conv2D)           (None, 148, 148, 32)      896       \n",
      "                                                                 \n",
      " max_pooling2d_7 (MaxPooling  (None, 74, 74, 32)       0         \n",
      " 2D)                                                             \n",
      "                                                                 \n",
      " flatten_7 (Flatten)         (None, 175232)            0         \n",
      "                                                                 \n",
      " dense_14 (Dense)            (None, 64)                11214912  \n",
      "                                                                 \n",
      " dense_15 (Dense)            (None, 1)                 65        \n",
      "                                                                 \n",
      "=================================================================\n",
      "Total params: 11,215,873\n",
      "Trainable params: 11,215,873\n",
      "Non-trainable params: 0\n",
      "_________________________________________________________________\n"
     ]
    }
   ],
   "source": [
    "model.summary()"
   ]
  },
  {
   "cell_type": "markdown",
   "id": "8a70a803-e127-42b9-affa-e36e17db175e",
   "metadata": {},
   "source": [
    "A2: The convolutional layer has 896 parameters\n"
   ]
  },
  {
   "cell_type": "code",
   "execution_count": 153,
   "id": "dbab37c3-b20d-47c4-901d-24f6a90ee6b1",
   "metadata": {
    "execution": {
     "iopub.execute_input": "2023-11-23T04:24:40.648041Z",
     "iopub.status.busy": "2023-11-23T04:24:40.647652Z",
     "iopub.status.idle": "2023-11-23T04:24:40.651131Z",
     "shell.execute_reply": "2023-11-23T04:24:40.650496Z",
     "shell.execute_reply.started": "2023-11-23T04:24:40.648015Z"
    },
    "tags": []
   },
   "outputs": [],
   "source": [
    "train_dir = './data/train'\n",
    "test_dir = './data/test'"
   ]
  },
  {
   "cell_type": "code",
   "execution_count": 154,
   "id": "573e60d8-7935-4d66-8162-c11894aea450",
   "metadata": {
    "execution": {
     "iopub.execute_input": "2023-11-23T04:24:42.181949Z",
     "iopub.status.busy": "2023-11-23T04:24:42.181565Z",
     "iopub.status.idle": "2023-11-23T04:24:42.185853Z",
     "shell.execute_reply": "2023-11-23T04:24:42.185039Z",
     "shell.execute_reply.started": "2023-11-23T04:24:42.181924Z"
    },
    "tags": []
   },
   "outputs": [],
   "source": [
    "# use the following data generator for both train and test sets:   ImageDataGenerator(rescale=1./255)\n",
    "train_datagen = ImageDataGenerator(rescale=1./255)\n",
    "val_datagen = ImageDataGenerator(rescale=1./255)"
   ]
  },
  {
   "cell_type": "code",
   "execution_count": 155,
   "id": "2974fa1c-b5e4-4056-9205-4c1520349c76",
   "metadata": {
    "execution": {
     "iopub.execute_input": "2023-11-23T04:24:54.544420Z",
     "iopub.status.busy": "2023-11-23T04:24:54.544024Z",
     "iopub.status.idle": "2023-11-23T04:24:54.644533Z",
     "shell.execute_reply": "2023-11-23T04:24:54.643822Z",
     "shell.execute_reply.started": "2023-11-23T04:24:54.544393Z"
    },
    "tags": []
   },
   "outputs": [
    {
     "name": "stdout",
     "output_type": "stream",
     "text": [
      "Found 3677 images belonging to 2 classes.\n"
     ]
    }
   ],
   "source": [
    "train_generator = train_datagen.flow_from_directory(train_dir,\n",
    "                                                    target_size=(150, 150),\n",
    "                                                    batch_size=20,\n",
    "                                                    shuffle=True,\n",
    "                                                    class_mode='binary')"
   ]
  },
  {
   "cell_type": "code",
   "execution_count": 156,
   "id": "1092a422-7ca4-4955-8c1e-5d546e0f0c3b",
   "metadata": {
    "execution": {
     "iopub.execute_input": "2023-11-23T04:24:57.796021Z",
     "iopub.status.busy": "2023-11-23T04:24:57.795640Z",
     "iopub.status.idle": "2023-11-23T04:24:57.825531Z",
     "shell.execute_reply": "2023-11-23T04:24:57.824819Z",
     "shell.execute_reply.started": "2023-11-23T04:24:57.795994Z"
    },
    "tags": []
   },
   "outputs": [
    {
     "name": "stdout",
     "output_type": "stream",
     "text": [
      "Found 918 images belonging to 2 classes.\n"
     ]
    }
   ],
   "source": [
    "validation_generator = val_datagen.flow_from_directory(test_dir,\n",
    "                                                        target_size=(150, 150),\n",
    "                                                        batch_size=20,\n",
    "                                                        shuffle=True,\n",
    "                                                        class_mode='binary')"
   ]
  },
  {
   "cell_type": "code",
   "execution_count": 157,
   "id": "a8165189-1da7-48b6-8010-3d7867697683",
   "metadata": {
    "execution": {
     "iopub.execute_input": "2023-11-23T04:25:04.727808Z",
     "iopub.status.busy": "2023-11-23T04:25:04.727417Z",
     "iopub.status.idle": "2023-11-23T04:26:25.253000Z",
     "shell.execute_reply": "2023-11-23T04:26:25.252372Z",
     "shell.execute_reply.started": "2023-11-23T04:25:04.727781Z"
    },
    "tags": []
   },
   "outputs": [
    {
     "name": "stdout",
     "output_type": "stream",
     "text": [
      "Epoch 1/10\n",
      "184/184 [==============================] - 8s 43ms/step - loss: 0.6809 - acc: 0.5567 - val_loss: 0.6482 - val_acc: 0.5719\n",
      "Epoch 2/10\n",
      "184/184 [==============================] - 8s 44ms/step - loss: 0.6349 - acc: 0.6377 - val_loss: 0.5995 - val_acc: 0.6634\n",
      "Epoch 3/10\n",
      "184/184 [==============================] - 8s 43ms/step - loss: 0.5792 - acc: 0.6943 - val_loss: 0.5454 - val_acc: 0.7342\n",
      "Epoch 4/10\n",
      "184/184 [==============================] - 8s 44ms/step - loss: 0.5340 - acc: 0.7365 - val_loss: 0.5428 - val_acc: 0.7320\n",
      "Epoch 5/10\n",
      "184/184 [==============================] - 8s 43ms/step - loss: 0.5049 - acc: 0.7607 - val_loss: 0.5195 - val_acc: 0.7462\n",
      "Epoch 6/10\n",
      "184/184 [==============================] - 8s 44ms/step - loss: 0.4725 - acc: 0.7835 - val_loss: 0.5100 - val_acc: 0.7593\n",
      "Epoch 7/10\n",
      "184/184 [==============================] - 8s 43ms/step - loss: 0.4533 - acc: 0.7930 - val_loss: 0.5067 - val_acc: 0.7712\n",
      "Epoch 8/10\n",
      "184/184 [==============================] - 8s 44ms/step - loss: 0.4250 - acc: 0.8129 - val_loss: 0.5049 - val_acc: 0.7658\n",
      "Epoch 9/10\n",
      "184/184 [==============================] - 8s 42ms/step - loss: 0.4075 - acc: 0.8278 - val_loss: 0.5106 - val_acc: 0.7647\n",
      "Epoch 10/10\n",
      "184/184 [==============================] - 8s 44ms/step - loss: 0.3713 - acc: 0.8431 - val_loss: 0.4953 - val_acc: 0.7603\n"
     ]
    }
   ],
   "source": [
    "history = model.fit(\n",
    "    train_generator,\n",
    "    epochs=10,\n",
    "    validation_data=validation_generator\n",
    ")"
   ]
  },
  {
   "cell_type": "markdown",
   "id": "24308ad3-cdaf-4df2-8e3f-6a5b6207697c",
   "metadata": {},
   "source": [
    "Q3: What is the median of training accuracy for all the epochs for this model?"
   ]
  },
  {
   "cell_type": "code",
   "execution_count": 158,
   "id": "1d7557c3-cd55-46fd-9728-bd2be489cc7a",
   "metadata": {
    "execution": {
     "iopub.execute_input": "2023-11-23T04:26:49.695582Z",
     "iopub.status.busy": "2023-11-23T04:26:49.695183Z",
     "iopub.status.idle": "2023-11-23T04:26:49.701291Z",
     "shell.execute_reply": "2023-11-23T04:26:49.700525Z",
     "shell.execute_reply.started": "2023-11-23T04:26:49.695558Z"
    },
    "tags": []
   },
   "outputs": [
    {
     "data": {
      "text/plain": [
       "0.7720968127250671"
      ]
     },
     "execution_count": 158,
     "metadata": {},
     "output_type": "execute_result"
    }
   ],
   "source": [
    "acc = history.history['acc']\n",
    "val_acc = history.history['val_acc']\n",
    "loss = history.history['loss']\n",
    "val_loss = history.history['val_loss']\n",
    "\n",
    "acc_median = np.median(acc)\n",
    "acc_median"
   ]
  },
  {
   "cell_type": "markdown",
   "id": "d495b327-329e-4841-b006-2e746002000f",
   "metadata": {},
   "source": [
    "A3: Median of training accuracy =0.77"
   ]
  },
  {
   "cell_type": "code",
   "execution_count": 159,
   "id": "d4506758-5e15-458d-92de-a7b8047e05ca",
   "metadata": {
    "execution": {
     "iopub.execute_input": "2023-11-23T04:27:09.379374Z",
     "iopub.status.busy": "2023-11-23T04:27:09.378982Z",
     "iopub.status.idle": "2023-11-23T04:27:09.597036Z",
     "shell.execute_reply": "2023-11-23T04:27:09.596246Z",
     "shell.execute_reply.started": "2023-11-23T04:27:09.379352Z"
    },
    "tags": []
   },
   "outputs": [
    {
     "data": {
      "image/png": "[encoded data removed]",
      "text/plain": [
       "<Figure size 640x480 with 1 Axes>"
      ]
     },
     "metadata": {},
     "output_type": "display_data"
    },
    {
     "data": {
      "image/png": "[encoded data removed]",
      "text/plain": [
       "<Figure size 640x480 with 1 Axes>"
      ]
     },
     "metadata": {},
     "output_type": "display_data"
    }
   ],
   "source": [
    "epochs = range(1, len(acc) + 1)\n",
    "\n",
    "plt.plot(epochs, acc, 'bo', label='Training acc')\n",
    "plt.plot(epochs, val_acc, 'b', label='Validation acc')\n",
    "plt.title('Training and Validation Accuracy')\n",
    "plt.legend()\n",
    "\n",
    "plt.figure()\n",
    "\n",
    "plt.plot(epochs, loss, 'bo', label='Training loss')\n",
    "plt.plot(epochs, val_loss, 'b', label='Validation loss')\n",
    "plt.title('Training and Validation Loss')\n",
    "plt.legend()\n",
    "\n",
    "plt.show()"
   ]
  },
  {
   "cell_type": "markdown",
   "id": "c71b1cdf-fffc-4364-aaeb-1e5f538f7be9",
   "metadata": {
    "execution": {
     "iopub.execute_input": "2023-11-23T03:54:04.587324Z",
     "iopub.status.busy": "2023-11-23T03:54:04.586912Z",
     "iopub.status.idle": "2023-11-23T03:54:04.592515Z",
     "shell.execute_reply": "2023-11-23T03:54:04.591766Z",
     "shell.execute_reply.started": "2023-11-23T03:54:04.587298Z"
    }
   },
   "source": [
    "Q4: What is the standard deviation of training loss for all the epochs for this model?\n"
   ]
  },
  {
   "cell_type": "code",
   "execution_count": 160,
   "id": "cfa5ba9a-52f3-443a-ad2b-3cb5da2bcdfb",
   "metadata": {
    "execution": {
     "iopub.execute_input": "2023-11-23T04:27:15.779629Z",
     "iopub.status.busy": "2023-11-23T04:27:15.779255Z",
     "iopub.status.idle": "2023-11-23T04:27:15.784556Z",
     "shell.execute_reply": "2023-11-23T04:27:15.783778Z",
     "shell.execute_reply.started": "2023-11-23T04:27:15.779604Z"
    },
    "tags": []
   },
   "outputs": [
    {
     "data": {
      "text/plain": [
       "0.09574311599567564"
      ]
     },
     "execution_count": 160,
     "metadata": {},
     "output_type": "execute_result"
    }
   ],
   "source": [
    "loss_std = np.std(loss)\n",
    "loss_std"
   ]
  },
  {
   "cell_type": "markdown",
   "id": "68b824bb-ebf4-4c9e-9393-a9ed29787804",
   "metadata": {},
   "source": [
    "A4: 0.095\n"
   ]
  },
  {
   "cell_type": "markdown",
   "id": "3e8cb569-d4aa-4b44-bf7e-21e47caecaad",
   "metadata": {},
   "source": [
    "DATA AUGMENTATION"
   ]
  },
  {
   "cell_type": "code",
   "execution_count": 161,
   "id": "bcdce50b-ba30-4f9a-aa1c-7008275e4fdd",
   "metadata": {
    "execution": {
     "iopub.execute_input": "2023-11-23T04:27:35.804651Z",
     "iopub.status.busy": "2023-11-23T04:27:35.804272Z",
     "iopub.status.idle": "2023-11-23T04:27:35.808585Z",
     "shell.execute_reply": "2023-11-23T04:27:35.807813Z",
     "shell.execute_reply.started": "2023-11-23T04:27:35.804623Z"
    },
    "tags": []
   },
   "outputs": [],
   "source": [
    "train_datagen = ImageDataGenerator(\n",
    "    rescale=1./255,\n",
    "    rotation_range=50,\n",
    "    width_shift_range=0.1,\n",
    "    height_shift_range=0.1,\n",
    "    zoom_range=0.1,\n",
    "    horizontal_flip=True,\n",
    "    fill_mode='nearest')\n",
    "     "
   ]
  },
  {
   "cell_type": "code",
   "execution_count": 162,
   "id": "d447b6fa-67f8-489e-99f4-3cc6b832843a",
   "metadata": {
    "execution": {
     "iopub.execute_input": "2023-11-23T04:28:05.084237Z",
     "iopub.status.busy": "2023-11-23T04:28:05.083856Z",
     "iopub.status.idle": "2023-11-23T04:28:05.177716Z",
     "shell.execute_reply": "2023-11-23T04:28:05.177092Z",
     "shell.execute_reply.started": "2023-11-23T04:28:05.084210Z"
    },
    "tags": []
   },
   "outputs": [
    {
     "name": "stdout",
     "output_type": "stream",
     "text": [
      "Found 3677 images belonging to 2 classes.\n"
     ]
    }
   ],
   "source": [
    "train_generator = train_datagen.flow_from_directory(train_dir,\n",
    "                                                    target_size=(150, 150), \n",
    "                                                    batch_size=32, \n",
    "                                                    class_mode='binary')"
   ]
  },
  {
   "cell_type": "code",
   "execution_count": 163,
   "id": "71b80679-2a4a-4432-b598-eb3ed6cbe620",
   "metadata": {
    "execution": {
     "iopub.execute_input": "2023-11-23T04:28:07.223083Z",
     "iopub.status.busy": "2023-11-23T04:28:07.222676Z",
     "iopub.status.idle": "2023-11-23T04:28:07.226446Z",
     "shell.execute_reply": "2023-11-23T04:28:07.225773Z",
     "shell.execute_reply.started": "2023-11-23T04:28:07.223057Z"
    },
    "tags": []
   },
   "outputs": [],
   "source": [
    "test_datagen = ImageDataGenerator(rescale=1./255)\n"
   ]
  },
  {
   "cell_type": "code",
   "execution_count": 164,
   "id": "d086d790-c0e2-4acb-a21e-1574a6f435b8",
   "metadata": {
    "execution": {
     "iopub.execute_input": "2023-11-23T04:28:20.511051Z",
     "iopub.status.busy": "2023-11-23T04:28:20.510650Z",
     "iopub.status.idle": "2023-11-23T04:28:20.546924Z",
     "shell.execute_reply": "2023-11-23T04:28:20.546193Z",
     "shell.execute_reply.started": "2023-11-23T04:28:20.511022Z"
    },
    "tags": []
   },
   "outputs": [
    {
     "name": "stdout",
     "output_type": "stream",
     "text": [
      "Found 918 images belonging to 2 classes.\n"
     ]
    }
   ],
   "source": [
    "validation_generator = test_datagen.flow_from_directory(\n",
    "    test_dir,\n",
    "    target_size=(150, 150),\n",
    "    batch_size=32,\n",
    "    class_mode='binary')"
   ]
  },
  {
   "cell_type": "code",
   "execution_count": 165,
   "id": "6aa5646d-9b3f-40aa-beb6-cd50e9eb0682",
   "metadata": {
    "execution": {
     "iopub.execute_input": "2023-11-23T04:28:24.715029Z",
     "iopub.status.busy": "2023-11-23T04:28:24.714628Z",
     "iopub.status.idle": "2023-11-23T04:32:09.489675Z",
     "shell.execute_reply": "2023-11-23T04:32:09.489032Z",
     "shell.execute_reply.started": "2023-11-23T04:28:24.714996Z"
    },
    "tags": []
   },
   "outputs": [
    {
     "name": "stdout",
     "output_type": "stream",
     "text": [
      "Epoch 1/10\n",
      "115/115 [==============================] - 22s 195ms/step - loss: 0.4911 - acc: 0.7718 - val_loss: 0.5122 - val_acc: 0.7603\n",
      "Epoch 2/10\n",
      "115/115 [==============================] - 22s 194ms/step - loss: 0.4773 - acc: 0.7754 - val_loss: 0.5034 - val_acc: 0.7658\n",
      "Epoch 3/10\n",
      "115/115 [==============================] - 23s 196ms/step - loss: 0.4580 - acc: 0.7919 - val_loss: 0.5109 - val_acc: 0.7603\n",
      "Epoch 4/10\n",
      "115/115 [==============================] - 22s 194ms/step - loss: 0.4655 - acc: 0.7868 - val_loss: 0.4742 - val_acc: 0.7843\n",
      "Epoch 5/10\n",
      "115/115 [==============================] - 23s 196ms/step - loss: 0.4663 - acc: 0.7805 - val_loss: 0.4653 - val_acc: 0.7854\n",
      "Epoch 6/10\n",
      "115/115 [==============================] - 22s 194ms/step - loss: 0.4655 - acc: 0.7900 - val_loss: 0.5092 - val_acc: 0.7538\n",
      "Epoch 7/10\n",
      "115/115 [==============================] - 23s 196ms/step - loss: 0.4613 - acc: 0.7906 - val_loss: 0.4856 - val_acc: 0.7702\n",
      "Epoch 8/10\n",
      "115/115 [==============================] - 22s 195ms/step - loss: 0.4574 - acc: 0.7914 - val_loss: 0.4895 - val_acc: 0.7614\n",
      "Epoch 9/10\n",
      "115/115 [==============================] - 22s 194ms/step - loss: 0.4526 - acc: 0.7917 - val_loss: 0.4566 - val_acc: 0.7941\n",
      "Epoch 10/10\n",
      "115/115 [==============================] - 23s 196ms/step - loss: 0.4616 - acc: 0.7909 - val_loss: 0.4586 - val_acc: 0.7898\n"
     ]
    }
   ],
   "source": [
    "history = model.fit(\n",
    "    train_generator,\n",
    "    epochs=10,\n",
    "    validation_data=validation_generator)"
   ]
  },
  {
   "cell_type": "markdown",
   "id": "77c09c5a-5b01-4345-a777-b1bd4ce1c2c3",
   "metadata": {},
   "source": [
    "Q5: What is the mean of test loss for all the epochs for the model trained with augmentations?"
   ]
  },
  {
   "cell_type": "code",
   "execution_count": 166,
   "id": "91a6056f-bec2-4d26-91f4-65469f3aa5af",
   "metadata": {
    "execution": {
     "iopub.execute_input": "2023-11-23T04:38:42.384643Z",
     "iopub.status.busy": "2023-11-23T04:38:42.384266Z",
     "iopub.status.idle": "2023-11-23T04:38:42.606741Z",
     "shell.execute_reply": "2023-11-23T04:38:42.605990Z",
     "shell.execute_reply.started": "2023-11-23T04:38:42.384615Z"
    },
    "tags": []
   },
   "outputs": [
    {
     "data": {
      "image/png": "[encoded data removed]",
      "text/plain": [
       "<Figure size 640x480 with 1 Axes>"
      ]
     },
     "metadata": {},
     "output_type": "display_data"
    },
    {
     "data": {
      "image/png": "[encoded data removed]",
      "text/plain": [
       "<Figure size 640x480 with 1 Axes>"
      ]
     },
     "metadata": {},
     "output_type": "display_data"
    }
   ],
   "source": [
    "acc_aug = history.history['acc']\n",
    "val_acc_aug = history.history['val_acc']\n",
    "loss_aug = history.history['loss']\n",
    "val_loss_aug = history.history['val_loss']\n",
    "\n",
    "epochs_aug = range(1, len(acc) + 1)\n",
    "\n",
    "plt.plot(epochs_aug, acc_aug, 'bo', label='Training acc')\n",
    "plt.plot(epochs_aug, val_acc_aug, 'b', label='Validation acc')\n",
    "plt.title('Training and Validation Accuracy')\n",
    "plt.legend()\n",
    "\n",
    "plt.figure()\n",
    "\n",
    "plt.plot(epochs_aug, loss_aug, 'bo', label='Training loss')\n",
    "plt.plot(epochs_aug, val_loss_aug, 'b', label='Validation loss')\n",
    "plt.title('Training and Validation Loss')\n",
    "plt.legend()\n",
    "\n",
    "plt.show()"
   ]
  },
  {
   "cell_type": "code",
   "execution_count": 167,
   "id": "6df4e7c8-85bd-48b9-8f9a-927da0e180bd",
   "metadata": {
    "execution": {
     "iopub.execute_input": "2023-11-23T04:38:44.713774Z",
     "iopub.status.busy": "2023-11-23T04:38:44.713388Z",
     "iopub.status.idle": "2023-11-23T04:38:44.718722Z",
     "shell.execute_reply": "2023-11-23T04:38:44.717969Z",
     "shell.execute_reply.started": "2023-11-23T04:38:44.713750Z"
    },
    "tags": []
   },
   "outputs": [
    {
     "data": {
      "text/plain": [
       "0.4865608423948288"
      ]
     },
     "execution_count": 167,
     "metadata": {},
     "output_type": "execute_result"
    }
   ],
   "source": [
    "loss_mean_aug = np.mean(val_loss_aug)\n",
    "loss_mean_aug"
   ]
  },
  {
   "cell_type": "markdown",
   "id": "e44b87de-70e9-4a1c-8bbd-e7dd95555bd5",
   "metadata": {},
   "source": [
    "A5: The mean of validation loss is 0.48"
   ]
  },
  {
   "cell_type": "markdown",
   "id": "9d3264c3-f4f6-44f0-b7ec-bb296eb1585d",
   "metadata": {},
   "source": [
    "Q6: What's the average of test accuracy for the last 5 epochs (from 6 to 10) for the model trained with augmentations?\n"
   ]
  },
  {
   "cell_type": "code",
   "execution_count": 168,
   "id": "c624d2e3-eff4-47e2-8aa9-d7d76f7f49cb",
   "metadata": {
    "execution": {
     "iopub.execute_input": "2023-11-23T04:38:50.084292Z",
     "iopub.status.busy": "2023-11-23T04:38:50.083908Z",
     "iopub.status.idle": "2023-11-23T04:38:50.088956Z",
     "shell.execute_reply": "2023-11-23T04:38:50.088345Z",
     "shell.execute_reply.started": "2023-11-23T04:38:50.084268Z"
    },
    "tags": []
   },
   "outputs": [
    {
     "data": {
      "text/plain": [
       "0.7738561987876892"
      ]
     },
     "execution_count": 168,
     "metadata": {},
     "output_type": "execute_result"
    }
   ],
   "source": [
    "acc_mean_aug = np.mean(val_acc_aug[5:10])\n",
    "acc_mean_aug"
   ]
  },
  {
   "cell_type": "markdown",
   "id": "2d20cdbd-22ac-4043-a01a-e17bae6298d8",
   "metadata": {},
   "source": [
    "A6: The average of test accuracy is 0.77"
   ]
  },
  {
   "cell_type": "code",
   "execution_count": null,
   "id": "09040ee0-3549-4803-8082-c5fefc7352cf",
   "metadata": {},
   "outputs": [],
   "source": []
  }
 ],
 "metadata": {
  "kernelspec": {
   "display_name": "saturn (Python 3)",
   "language": "python",
   "name": "python3"
  },
  "language_info": {
   "codemirror_mode": {
    "name": "ipython",
    "version": 3
   },
   "file_extension": ".py",
   "mimetype": "text/x-python",
   "name": "python",
   "nbconvert_exporter": "python",
   "pygments_lexer": "ipython3",
   "version": "3.9.13"
  }
 },
 "nbformat": 4,
 "nbformat_minor": 5
}
