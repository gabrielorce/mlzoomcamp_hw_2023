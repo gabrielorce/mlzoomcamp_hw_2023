{
 "cells": [
  {
   "cell_type": "code",
   "execution_count": 5,
   "id": "ef2580d5-e0bb-4506-8ec9-6a7f88e190b1",
   "metadata": {},
   "outputs": [
    {
     "data": {
      "application/javascript": [
       "IPython.notebook.set_autosave_interval(0)"
      ]
     },
     "metadata": {},
     "output_type": "display_data"
    },
    {
     "name": "stdout",
     "output_type": "stream",
     "text": [
      "Autosave disabled\n"
     ]
    }
   ],
   "source": [
    "%autosave 0"
   ]
  },
  {
   "cell_type": "code",
   "execution_count": 6,
   "id": "90e7f7e6-9252-498e-b1dd-d72363a59933",
   "metadata": {},
   "outputs": [],
   "source": [
    "# !wget https://github.com/alexeygrigorev/large-datasets/releases/download/wasps-bees/bees-wasps.h5"
   ]
  },
  {
   "cell_type": "code",
   "execution_count": 7,
   "id": "40982efb-ba20-4fac-9233-181a40f90aad",
   "metadata": {},
   "outputs": [],
   "source": [
    "import tensorflow as tf\n",
    "from tensorflow import keras\n",
    "import tensorflow.lite as tflite"
   ]
  },
  {
   "cell_type": "code",
   "execution_count": 8,
   "id": "63624ad5-56c1-4e22-a12c-01be0c061349",
   "metadata": {},
   "outputs": [
    {
     "name": "stdout",
     "output_type": "stream",
     "text": [
      "WARNING:tensorflow:From C:\\Users\\Bjorn\\anaconda3\\envs\\ml-zoomcamp\\lib\\site-packages\\keras\\src\\backend.py:1398: The name tf.executing_eagerly_outside_functions is deprecated. Please use tf.compat.v1.executing_eagerly_outside_functions instead.\n",
      "\n",
      "WARNING:tensorflow:From C:\\Users\\Bjorn\\anaconda3\\envs\\ml-zoomcamp\\lib\\site-packages\\keras\\src\\layers\\pooling\\max_pooling2d.py:161: The name tf.nn.max_pool is deprecated. Please use tf.nn.max_pool2d instead.\n",
      "\n",
      "INFO:tensorflow:Assets written to: C:\\Users\\Bjorn\\AppData\\Local\\Temp\\tmp0ug5gr6e\\assets\n"
     ]
    },
    {
     "name": "stderr",
     "output_type": "stream",
     "text": [
      "INFO:tensorflow:Assets written to: C:\\Users\\Bjorn\\AppData\\Local\\Temp\\tmp0ug5gr6e\\assets\n"
     ]
    }
   ],
   "source": [
    "model = keras.models.load_model('bees-wasps.h5')\n",
    "\n",
    "converter = tf.lite.TFLiteConverter.from_keras_model(model)\n",
    "tflite_model = converter.convert()\n",
    "\n",
    "with open('bees-wasps.tflite', 'wb') as f_out:\n",
    "    f_out.write(tflite_model)"
   ]
  },
  {
   "cell_type": "markdown",
   "id": "a67fa183-8d28-4242-8be0-4db71b9fa5df",
   "metadata": {},
   "source": [
    "Q1: What is the size of the model\n"
   ]
  },
  {
   "cell_type": "markdown",
   "id": "deb3c0b3-3bb6-4495-b7bd-7036b2a99042",
   "metadata": {},
   "source": [
    "A1: 43 MB (see directory)"
   ]
  },
  {
   "cell_type": "code",
   "execution_count": null,
   "id": "1739aa1d-5210-4fc5-b951-cb28ff9bd476",
   "metadata": {},
   "outputs": [],
   "source": [
    "interpreter = tflite.Interpreter(model_path='bees-wasps.tflite')\n",
    "interpreter.allocate_tensors()\n",
    "\n",
    "input_index = interpreter.get_input_details()[0]['index']\n",
    "output_index = interpreter.get_output_details()[0]['index']"
   ]
  }
 ],
 "metadata": {
  "kernelspec": {
   "display_name": "Python [conda env:ml-zoomcamp]",
   "language": "python",
   "name": "conda-env-ml-zoomcamp-py"
  },
  "language_info": {
   "codemirror_mode": {
    "name": "ipython",
    "version": 3
   },
   "file_extension": ".py",
   "mimetype": "text/x-python",
   "name": "python",
   "nbconvert_exporter": "python",
   "pygments_lexer": "ipython3",
   "version": "3.9.18"
  }
 },
 "nbformat": 4,
 "nbformat_minor": 5
}
